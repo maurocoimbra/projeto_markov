{
 "cells": [
  {
   "cell_type": "markdown",
   "metadata": {},
   "source": [
    "### Geração de textos com Cadeias de Markov"
   ]
  },
  {
   "cell_type": "markdown",
   "metadata": {},
   "source": [
    "Equipe:<br>Mauro Coimbra Barreto Costa Neto<br>João Victor Dias"
   ]
  },
  {
   "cell_type": "markdown",
   "metadata": {},
   "source": [
    "#### Configurando o ambiente"
   ]
  },
  {
   "cell_type": "code",
   "execution_count": 2,
   "metadata": {},
   "outputs": [],
   "source": [
    "import numpy as np"
   ]
  },
  {
   "cell_type": "code",
   "execution_count": 45,
   "metadata": {},
   "outputs": [],
   "source": [
    "class Markov:\n",
    "\n",
    "  def __init__(self, filename, k):\n",
    "    self.k = k\n",
    "    self.text = self.load_text(filename)\n",
    "    self.model = self.MarkovChain(self.text)\n",
    "\n",
    "  def generateTable(self, data):\n",
    "    T = {}\n",
    "    for i in range(len(data) - self.k):\n",
    "      X = data[i:i + self.k]\n",
    "      Y = data[i + self.k]\n",
    "      #print(\"X  %s and Y %s  \"%(X,Y))\n",
    "\n",
    "      if T.get(X) is None:\n",
    "        T[X] = {}\n",
    "        T[X][Y] = 1\n",
    "      else:\n",
    "        if T[X].get(Y) is None:\n",
    "          T[X][Y] = 1\n",
    "        else:\n",
    "          T[X][Y] += 1\n",
    "    return T\n",
    "\n",
    "  def convertFreqIntoProb(self, T):\n",
    "    for kx in T.keys():\n",
    "      s = float(sum(T[kx].values()))\n",
    "      for k in T[kx].keys():\n",
    "        T[kx][k] = T[kx][k] / s\n",
    "    return T\n",
    "\n",
    "  def load_text(self, filename):\n",
    "    with open(filename, encoding='utf8') as f:\n",
    "      return f.read().lower()\n",
    "\n",
    "  def MarkovChain(self, text):\n",
    "    T = self.generateTable(text)\n",
    "    T = self.convertFreqIntoProb(T)\n",
    "    return T\n",
    "\n",
    "  def sample_next(self, ctx):\n",
    "    ctx = ctx[-self.k:]\n",
    "    if self.model.get(ctx) is None:\n",
    "      return \" \"\n",
    "    possible_Chars = list(self.model[ctx].keys())\n",
    "    possible_values = list(self.model[ctx].values())\n",
    "\n",
    "    # print(possible_Chars)\n",
    "    # print(possible_values)\n",
    "\n",
    "    return np.random.choice(possible_Chars, p=possible_values)\n",
    "\n",
    "  def generateText(self, starting_sent, maxLen=1000):\n",
    "    sentence = starting_sent\n",
    "    ctx = starting_sent[-self.k:]\n",
    "\n",
    "    for ix in range(maxLen):\n",
    "      next_prediction = self.sample_next(ctx)\n",
    "      sentence += next_prediction\n",
    "      ctx = sentence[-self.k:]\n",
    "    return sentence"
   ]
  },
  {
   "cell_type": "markdown",
   "metadata": {},
   "source": [
    "### Execução"
   ]
  },
  {
   "cell_type": "code",
   "execution_count": 43,
   "metadata": {},
   "outputs": [],
   "source": [
    "model = Markov(\"data2.txt\", 6)"
   ]
  },
  {
   "cell_type": "code",
   "execution_count": 55,
   "metadata": {},
   "outputs": [
    {
     "data": {
      "text/plain": [
       "'Harry e a sua mãe até a janela em tempo espichando-o por alguma coisas espantavam excitados. o sr. dursley ficou para'"
      ]
     },
     "execution_count": 55,
     "metadata": {},
     "output_type": "execute_result"
    }
   ],
   "source": [
    "model.generateText(\"Harry e a sua mãe\", maxLen=100)"
   ]
  },
  {
   "cell_type": "code",
   "execution_count": 53,
   "metadata": {},
   "outputs": [],
   "source": [
    "models = []\n",
    "for i in range(1, 7):\n",
    "  models.append(Markov(\"data2.txt\", i))"
   ]
  },
  {
   "cell_type": "code",
   "execution_count": 58,
   "metadata": {},
   "outputs": [
    {
     "name": "stdout",
     "output_type": "stream",
     "text": [
      "k = 1\n",
      "Harry era feliz mas um diaqu te ende a spa sascodideso. uangatelentelir\n",
      "– le. mo durm da az tte\n",
      "– icumivêncre,\n",
      "m gue priaome d\n",
      "\n",
      "k = 2\n",
      "Harry era feliz mas um diam apas tecebeças durslevera..\n",
      "eledos onoi mursle-que imaria imo exassorry a um emosolhis não gart ti\n",
      "\n",
      "k = 3\n",
      "Harry era feliz mas um dia ao poder completa as de era e a julgar, surpreocurante, ele e temos dez dos\n",
      "aprofa. minerva. noite.\n",
      "\n",
      "k = 4\n",
      "Harry era feliz mas um dia tendo quase\n",
      "jogado do havia complesmeralda. – disse dumbledore parda que se tempo espero quase com \n",
      "\n",
      "k = 5\n",
      "Harry era feliz mas um dia tão se meia, o sr. dursley\n",
      "ficou quando uma espécie de casa,\n",
      "esperada, profa. minerva.\n",
      "– ah, é – di\n",
      "\n",
      "k = 6\n",
      "Harry era feliz mas um dia normalmente foi-se\n",
      "embora? que fora do com isso. estava sentados cobertores. dentro, a primeira coi\n",
      "\n"
     ]
    }
   ],
   "source": [
    "text = \"Harry era feliz mas um dia\"\n",
    "for i in range(len(models)):\n",
    "  print(f\"k = {i+1}\")\n",
    "  print(models[i].generateText(text, maxLen=100))\n",
    "  print(\"\")"
   ]
  }
 ],
 "metadata": {
  "kernelspec": {
   "display_name": "base",
   "language": "python",
   "name": "python3"
  },
  "language_info": {
   "codemirror_mode": {
    "name": "ipython",
    "version": 3
   },
   "file_extension": ".py",
   "mimetype": "text/x-python",
   "name": "python",
   "nbconvert_exporter": "python",
   "pygments_lexer": "ipython3",
   "version": "3.11.4"
  }
 },
 "nbformat": 4,
 "nbformat_minor": 2
}
