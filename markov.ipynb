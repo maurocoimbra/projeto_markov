{
 "cells": [
  {
   "cell_type": "markdown",
   "metadata": {},
   "source": [
    "### Geração de textos com Cadeias de Markov"
   ]
  },
  {
   "cell_type": "markdown",
   "metadata": {},
   "source": [
    "Equipe:<br>Mauro Coimbra Barreto Costa Neto<br>João Victor Dias"
   ]
  },
  {
   "cell_type": "markdown",
   "metadata": {},
   "source": [
    "#### Configurando o ambiente"
   ]
  },
  {
   "cell_type": "code",
   "execution_count": 32,
   "metadata": {},
   "outputs": [],
   "source": [
    "import numpy as np"
   ]
  },
  {
   "cell_type": "code",
   "execution_count": 33,
   "metadata": {},
   "outputs": [],
   "source": [
    "class Markov:\n",
    "\n",
    "  def __init__(self, filename, k):\n",
    "    self.k = k\n",
    "    self.text = self.load_text(filename)\n",
    "    self.model = self.MarkovChain(self.text)\n",
    "\n",
    "  def generateTable(self, data):\n",
    "    T = {}\n",
    "    for i in range(len(data) - self.k):\n",
    "      X = data[i:i + self.k]\n",
    "      Y = data[i + self.k]\n",
    "      #print(\"X  %s and Y %s  \"%(X,Y))\n",
    "\n",
    "      if T.get(X) is None:\n",
    "        T[X] = {}\n",
    "        T[X][Y] = 1\n",
    "      else:\n",
    "        if T[X].get(Y) is None:\n",
    "          T[X][Y] = 1\n",
    "        else:\n",
    "          T[X][Y] += 1\n",
    "    return T\n",
    "\n",
    "  def convertFreqIntoProb(self, T):\n",
    "    for kx in T.keys():\n",
    "      s = float(sum(T[kx].values()))\n",
    "      for k in T[kx].keys():\n",
    "        T[kx][k] = T[kx][k] / s\n",
    "    return T\n",
    "\n",
    "  def load_text(self, filename):\n",
    "    with open(filename, encoding='utf8') as f:\n",
    "      return f.read().lower()\n",
    "\n",
    "  def MarkovChain(self, text):\n",
    "    T = self.generateTable(text)\n",
    "    T = self.convertFreqIntoProb(T)\n",
    "    return T\n",
    "\n",
    "  def sample_next(self, ctx):\n",
    "    ctx = ctx[-self.k:]\n",
    "    if self.model.get(ctx) is None:\n",
    "      # Se o modelo se perder completamente, seu\n",
    "      # estado é transformado em algum conhecido\n",
    "      if ctx == \" \" * len(ctx):\n",
    "        possible_Chars = list(self.model.keys())\n",
    "        return \" \" + np.random.choice(possible_Chars)\n",
    "      else:\n",
    "        return \" \"\n",
    "    possible_Chars = list(self.model[ctx].keys())\n",
    "    possible_values = list(self.model[ctx].values())\n",
    "\n",
    "    # print(possible_Chars)\n",
    "    # print(possible_values)\n",
    "\n",
    "    return np.random.choice(possible_Chars, p=possible_values)\n",
    "\n",
    "  def generateText(self, starting_sent, maxLen=1000):\n",
    "    sentence = starting_sent\n",
    "    ctx = starting_sent[-self.k:]\n",
    "\n",
    "    for ix in range(maxLen):\n",
    "      next_prediction = self.sample_next(ctx)\n",
    "      sentence += next_prediction\n",
    "      ctx = sentence[-self.k:]\n",
    "    return sentence"
   ]
  },
  {
   "cell_type": "markdown",
   "metadata": {},
   "source": [
    "### Execução"
   ]
  },
  {
   "cell_type": "code",
   "execution_count": 34,
   "metadata": {},
   "outputs": [],
   "source": [
    "models = []\n",
    "for i in range(1, 11):\n",
    "  models.append(Markov(\"data3.txt\", i))"
   ]
  },
  {
   "cell_type": "code",
   "execution_count": 35,
   "metadata": {},
   "outputs": [
    {
     "name": "stdout",
     "output_type": "stream",
     "text": [
      "k = 1\n",
      "Harry era feliz, mas um dia ele descobriu a verdadesss ulomermesssrolto chuveveura cele cue e guu candosente.avove pose e ezemedê uramograso oueleleum dem qur. duaíroumer pa mbrarisse e espa hanor?\n",
      "– ss, pesaoncham uelgum lesge nãozegorum to pr denze \n",
      "\n",
      "k = 2\n",
      "Harry era feliz, mas um dia ele descobriu a verdade maiscursle se não eledra o fogatarou olharia murrofa. dumbletrou, fixos alça... estos dir umapriamento não deundoscobata, pas poto mursley seram alentem ele qua do os e consentento vocomeirmaissequen\n",
      "\n",
      "k = 3\n",
      "Harry era feliz, mas um dia ele descobriu a verdadez esculpanto achamais, pottermitiu espichandos mesmas melho quasegremora botar a cordade? – eu de silência sr. duda à pontrão tevetes mãe a no contadeirodescurio, que filho, se iluminhaponhos mas em m\n",
      "\n",
      "k = 4\n",
      "Harry era feliz, mas um dia ele descobriu a verdade excelente, jorge?”“bom, espeito mendeu marcha à profa. minhos. ospotter os potteraparece teriosas que tudo indício da partiu um mapa. paradoque o sr. dursley ao sr. dursley que não com sala tremente \n",
      "\n",
      "k = 5\n",
      "Harry era feliz, mas um dia ele descobriu a verdadeirinha a fazer sentar os trouxa, o sr. e agradecer. os de corresseque ele contrar duas vezes. o sr. dursley era maioria jamaisvira o embora? devoldemort tinha vida se meia-noite, profa. minerva. – mas\n",
      "\n",
      "k = 6\n",
      "Harry era feliz, mas um dia ele descobriu a verdade? – gaguejou a moto eacionou o “apagueiro”. deu umencontrole-se, hagrid sacudiu a cabeça a sala em tempo que era o mesmo assim. tinha sentava de excelente humor até a janela em seu escritório noturno.\n",
      "\n",
      "k = 7\n",
      "Harry era feliz, mas um dia ele descobriu a verdade. dumbledore calmamente. –temos tido muito bem o que pensavam deles reparou em uma claridadelaranja e ele disse dumbledore concordo com essetipo de bobagem de você-sabe-quem”. nunca cheguemosa saber.a\n",
      "\n",
      "k = 8\n",
      "Harry era feliz, mas um dia ele descobriu a verdade? – gaguejou a professora, dando uma capa púrpura que algoestranho hoje. ouvintesde todo o país têm telefonemas importante comoesta?\n",
      "– eu confiaria a hagrid vai trazê-lo.\n",
      "– você não poderia detê-lo...\n",
      "\n",
      "k = 9\n",
      "Harry era feliz, mas um dia ele descobriu a verdadeira razão pela qual estivera vigiando. apareceu nãoreparar. – tudo fica tão confuso quando estávamossobrevoando bristol.dumbledore confirmasse ser verdade. dumbledore confirmasse ser verdade. dumbledo\n",
      "\n",
      "k = 10\n",
      "Harry era feliz, mas um dia ele descobriu a verdadeira razão pela qual estivera esperando o dia todo? quando podia estar comemorando? devo ter passado pormais de dez festas e banquetes a caminho daqui.a professora.\n",
      "– foi – confirmou dumbledore, porque\n",
      "\n"
     ]
    }
   ],
   "source": [
    "text = \"Harry era feliz, mas um dia ele descobriu a verdade\"\n",
    "for i in range(len(models)):\n",
    "  print(f\"k = {i+1}\")\n",
    "  print(models[i].generateText(text, maxLen=200))\n",
    "  print(\"\")"
   ]
  },
  {
   "cell_type": "code",
   "execution_count": null,
   "metadata": {},
   "outputs": [],
   "source": []
  }
 ],
 "metadata": {
  "kernelspec": {
   "display_name": "base",
   "language": "python",
   "name": "python3"
  },
  "language_info": {
   "codemirror_mode": {
    "name": "ipython",
    "version": 3
   },
   "file_extension": ".py",
   "mimetype": "text/x-python",
   "name": "python",
   "nbconvert_exporter": "python",
   "pygments_lexer": "ipython3",
   "version": "3.11.4"
  }
 },
 "nbformat": 4,
 "nbformat_minor": 2
}
